{
 "cells": [
  {
   "cell_type": "code",
   "execution_count": 1,
   "id": "7d4f7b51",
   "metadata": {},
   "outputs": [],
   "source": [
    "import os\n",
    "os.environ[\"MKL_NUM_THREADS\"] = \"8\" \n",
    "os.environ[\"NUMEXPR_NUM_THREADS\"] = \"8\" \n",
    "os.environ[\"OMP_NUM_THREADS\"] = \"8\" \n",
    "\n",
    "import numpy as np\n",
    "np.random.seed(1)\n",
    "import random\n",
    "random.seed(1)\n",
    "import pandas as pd\n",
    "import cv2\n",
    "import timeit\n",
    "from os import path, makedirs, listdir\n",
    "import sys\n",
    "sys.setrecursionlimit(10000)\n",
    "from multiprocessing import Pool\n",
    "from skimage.morphology import square, dilation, watershed, erosion\n",
    "from skimage import io\n",
    "from shapely.wkt import loads\n",
    "\n",
    "from tqdm import tqdm\n",
    "import ntpath\n",
    "\n",
    "# from matplotlib import pyplot as plt\n",
    "# import seaborn as sns\n"
   ]
  },
  {
   "cell_type": "code",
   "execution_count": 2,
   "id": "82fd8bcf",
   "metadata": {},
   "outputs": [],
   "source": [
    "# test_folders = ['../AOI_7_Moscow_test', '../AOI_8_Mumbai_test', '../AOI_9_San_Juan']\n",
    "test_folders = ['./wdata/test']\n",
    "\n",
    "\n",
    "test_png = './wdata/test_png'\n",
    "test_png2 = './wdata/test_png_5_3_0'\n",
    "test_png3 = './wdata/test_png_pan_6_7'\n",
    "\n",
    "test_png_960 = './wdata/test_png_960'\n",
    "test_png2_960 = './wdata/test_png_5_3_0_960'\n",
    "test_png3_960 = './wdata/test_png_pan_6_7_960'\n"
   ]
  },
  {
   "cell_type": "code",
   "execution_count": 9,
   "id": "3caa8d08",
   "metadata": {},
   "outputs": [
    {
     "data": {
      "text/plain": [
       "'0__AOI_10_Dar_Es_Salaam_PS-MS_COG__26000__3900__1300__1300__39000__39000'"
      ]
     },
     "execution_count": 9,
     "metadata": {},
     "output_type": "execute_result"
    }
   ],
   "source": [
    "img_id = ntpath.basename(test_folders[0]+'/PS-MS/0__AOI_10_Dar_Es_Salaam_PS-MS_COG__26000__3900__1300__1300__39000__39000.tif')\n",
    "img_id[0:-4]"
   ]
  },
  {
   "cell_type": "code",
   "execution_count": null,
   "id": "2be520ec",
   "metadata": {},
   "outputs": [],
   "source": []
  },
  {
   "cell_type": "code",
   "execution_count": 6,
   "id": "cf0e83fe",
   "metadata": {},
   "outputs": [],
   "source": [
    "def process_image(fn):\n",
    "    img_id = bn = ntpath.basename(fn)[0:-4]\n",
    "    img_id = img_id.replace('_PS-MS', '')\n",
    "    \n",
    "    img = io.imread(fn)\n",
    "    \n",
    "#     img_bgr = (np.clip(img[..., [1, 2, 4]], None, 2000) / (2000 / 255)).astype('uint8')\n",
    "#     cv2.imwrite(path.join(test_png, img_id + '.png'), img_bgr, [cv2.IMWRITE_PNG_COMPRESSION, 9])\n",
    "#     cv2.imwrite(path.join(test_png_960, img_id + '.png'), cv2.resize(img_bgr, (960, 960)), [cv2.IMWRITE_PNG_COMPRESSION, 9])\n",
    "    \n",
    "#     img_0_3_5 = (np.clip(img[..., [0, 3, 5]], None, 2000) / (2000 / 255)).astype('uint8')\n",
    "#     cv2.imwrite(path.join(test_png2, img_id + '.png'), img_0_3_5, [cv2.IMWRITE_PNG_COMPRESSION, 9])\n",
    "#     cv2.imwrite(path.join(test_png2_960, img_id + '.png'), cv2.resize(img_0_3_5, (960, 960)), [cv2.IMWRITE_PNG_COMPRESSION, 9])\n",
    "    \n",
    "    pan = io.imread(fn.replace('_PS-MS_', '_PAN_').replace('PS-MS', 'PAN'))\n",
    "    pan = pan[..., np.newaxis]\n",
    "    \n",
    "    img_pan_6_7 = np.concatenate([pan, img[..., 7:], img[..., 6:7]], axis=2)\n",
    "    img_pan_6_7 = (np.clip(img_pan_6_7, None, (10000, 2000, 2000)) / (np.array([10000, 2000, 2000]) / 255)).astype('uint8')\n",
    "    cv2.imwrite(path.join(test_png3, img_id + '.png'), img_pan_6_7, [cv2.IMWRITE_PNG_COMPRESSION, 9])\n",
    "#     cv2.imwrite(path.join(test_png3_960, img_id + '.png'), cv2.resize(img_pan_6_7, (960, 960)), [cv2.IMWRITE_PNG_COMPRESSION, 9])\n"
   ]
  },
  {
   "cell_type": "code",
   "execution_count": 7,
   "id": "c927560e",
   "metadata": {},
   "outputs": [
    {
     "name": "stdout",
     "output_type": "stream",
     "text": [
      "Time: 1.794 min\n"
     ]
    }
   ],
   "source": [
    "if __name__ == '__main__':\n",
    "    t0 = timeit.default_timer()\n",
    "\n",
    "    makedirs(test_png, exist_ok=True)\n",
    "    makedirs(test_png2, exist_ok=True)\n",
    "    makedirs(test_png3, exist_ok=True)\n",
    "    makedirs(test_png_960, exist_ok=True)\n",
    "    makedirs(test_png2_960, exist_ok=True)\n",
    "    makedirs(test_png3_960, exist_ok=True)\n",
    "\n",
    "    all_files = []\n",
    "    for d in test_folders:\n",
    "        for f in listdir(path.join(d, 'PS-MS')):\n",
    "            if '.tif' in f:\n",
    "                all_files.append(path.join(d, 'PS-MS', f))\n",
    "        \n",
    "    with Pool() as pool:\n",
    "        _ = pool.map(process_image, all_files)\n",
    "\n",
    "    elapsed = timeit.default_timer() - t0\n",
    "    print('Time: {:.3f} min'.format(elapsed / 60))\n"
   ]
  },
  {
   "cell_type": "code",
   "execution_count": null,
   "id": "058f02ec",
   "metadata": {},
   "outputs": [],
   "source": []
  }
 ],
 "metadata": {
  "kernelspec": {
   "display_name": "pytorch-test",
   "language": "python",
   "name": "pytorch-test"
  },
  "language_info": {
   "codemirror_mode": {
    "name": "ipython",
    "version": 3
   },
   "file_extension": ".py",
   "mimetype": "text/x-python",
   "name": "python",
   "nbconvert_exporter": "python",
   "pygments_lexer": "ipython3",
   "version": "3.6.15"
  }
 },
 "nbformat": 4,
 "nbformat_minor": 5
}
